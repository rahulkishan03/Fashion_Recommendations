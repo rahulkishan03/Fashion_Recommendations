{
 "cells": [
  {
   "cell_type": "code",
   "execution_count": 19,
   "id": "51177cf8-313a-4573-9f35-a9db64bf4c8c",
   "metadata": {},
   "outputs": [],
   "source": [
    "import pandas as pd\n",
    "import numpy as np\n",
    "from math import sqrt"
   ]
  },
  {
   "cell_type": "code",
   "execution_count": 41,
   "id": "50764cde-54ce-426d-a627-bfb57e6f3a2f",
   "metadata": {},
   "outputs": [],
   "source": [
    "N =12"
   ]
  },
  {
   "cell_type": "code",
   "execution_count": 20,
   "id": "039230e2-ae5b-46ce-8461-8ccb2c190edc",
   "metadata": {},
   "outputs": [],
   "source": [
    "#Load csv files \n",
    "df_articles = pd.read_csv('articles.csv')\n",
    "df_transactions = pd.read_csv('transactions_train.csv')\n",
    "df_customers = pd.read_csv('customers.csv')"
   ]
  },
  {
   "cell_type": "code",
   "execution_count": 21,
   "id": "b4ff7a3f-c475-42bb-9caa-a28d749eab18",
   "metadata": {},
   "outputs": [],
   "source": [
    "df_transactions['t_dat'] = pd.to_datetime(df_transactions['t_dat'])"
   ]
  },
  {
   "cell_type": "code",
   "execution_count": 22,
   "id": "450f5fab-f254-4b96-a59a-2ffc2d11ca15",
   "metadata": {},
   "outputs": [],
   "source": [
    "df = df_trans[['t_dat', 'customer_id', 'article_id']].copy()\n",
    "#Calculate week for each date\n",
    "df['week'] = 104 - (df['t_dat'].max() - df['t_dat']).dt.days // 7  #104 is the maximum week number \n",
    " #Weekly sale count of each articles\n",
    "weekly_sales = df.drop('customer_id', axis=1).groupby(['week', 'article_id']).size().reset_index().rename(columns={0: 'count'})\n",
    " #calculate week and article id wise purchase coun\n",
    "df = df.merge(weekly_sales, on=['week', 'article_id'], how = 'left')\n",
    "df = df.merge(weekly_sales.loc[weekly_sales['week']==104, ['count', 'article_id']], on='article_id', suffixes=(\"\", \"_target\"))\n",
    "df['count_target'].fillna(0, inplace=True) \n",
    "del weekly_sales\n",
    "#Normalize article counts with respect to week to remove bias and seasonlity \n",
    "df['norm_count'] = df['count_target'] / df['count']"
   ]
  },
  {
   "cell_type": "code",
   "execution_count": 27,
   "id": "afb53394-2c08-4fc3-a5f0-014e9bc7e091",
   "metadata": {},
   "outputs": [],
   "source": [
    "#purchase dict contain customer article value dict\n",
    "customer_article_value_dict = {}\n",
    "last_ts = df['t_dat'].max()\n",
    "#Looping for each customer\n",
    "for i in df.index:\n",
    "    cust_id = df.at[i, 'customer_id']\n",
    "    art_id = df.at[i, 'article_id']\n",
    "    t_dat = df.at[i, 't_dat']\n",
    "\n",
    "    if cust_id not in customer_article_value_dict:\n",
    "        customer_article_value_dict[cust_id] = {}\n",
    "\n",
    "    if art_id not in customer_article_value_dict[cust_id]:\n",
    "        customer_article_value_dict[cust_id][art_id] = 0\n",
    "    \n",
    "    #Assigning weight according to day from maximum purchase date\n",
    "    days_from_maximum_date = max(1, (last_ts - t_dat).days)\n",
    "    weight = 250000 / np.sqrt(days_from_maximum_date) + 100000 * np.exp(-0.2*days_from_maximum_date) - 1000\n",
    "    value = df.at[i, 'norm_count'] * max(0, weight)\n",
    "    #Adding the value for article on the cystomer\n",
    "    customer_article_value_dict[cust_id][art_id] += value\n",
    "\n",
    "target_sales = df.drop('customer_id', axis=1).groupby('article_id')['norm_count'].sum()\n",
    "default_pred = target_sales.nlargest(N).index.tolist()"
   ]
  },
  {
   "cell_type": "code",
   "execution_count": 29,
   "id": "912988be-7278-46a4-a62c-44ea7e226575",
   "metadata": {},
   "outputs": [],
   "source": [
    "sub = pd.read_csv('sample_submission.csv')"
   ]
  },
  {
   "cell_type": "code",
   "execution_count": 36,
   "id": "a14b602e-e905-4e8d-8f53-c0803487716f",
   "metadata": {},
   "outputs": [],
   "source": [
    "pred_list = []"
   ]
  },
  {
   "cell_type": "code",
   "execution_count": 37,
   "id": "255fd5d7-92b3-4994-a714-7e2133b40ede",
   "metadata": {},
   "outputs": [],
   "source": [
    "#Looping for each customer\n",
    "for cust_id in sub['customer_id']:\n",
    "    #Previous customer then use history otherwise assign default prediction\n",
    "    if cust_id in customer_article_value_dict:\n",
    "        series = pd.Series(customer_article_value_dict[cust_id])\n",
    "        #Getting top n accordng to value\n",
    "        tempTop = series.nlargest(N).index.tolist()\n",
    "        tmp_l = tempTop.copy()\n",
    "        if len(tmp_l) < N:\n",
    "            tempTop = tmp_l + default_pred[:(N-len(tempTop))]\n",
    "    else:\n",
    "        tempTop = default_pred\n",
    "    pred_list.append(' '.join(tempTop))\n",
    "sub['prediction'] = pred_list"
   ]
  },
  {
   "cell_type": "code",
   "execution_count": 38,
   "id": "ba903f50-a45f-47cb-949e-a9bfe85a824b",
   "metadata": {},
   "outputs": [
    {
     "data": {
      "text/plain": [
       "(1371980, 2)"
      ]
     },
     "execution_count": 38,
     "metadata": {},
     "output_type": "execute_result"
    }
   ],
   "source": [
    "sub.shape"
   ]
  },
  {
   "cell_type": "code",
   "execution_count": 39,
   "id": "799f019b-4680-4439-b955-83a11c1e6712",
   "metadata": {},
   "outputs": [
    {
     "data": {
      "text/html": [
       "<div>\n",
       "<style scoped>\n",
       "    .dataframe tbody tr th:only-of-type {\n",
       "        vertical-align: middle;\n",
       "    }\n",
       "\n",
       "    .dataframe tbody tr th {\n",
       "        vertical-align: top;\n",
       "    }\n",
       "\n",
       "    .dataframe thead th {\n",
       "        text-align: right;\n",
       "    }\n",
       "</style>\n",
       "<table border=\"1\" class=\"dataframe\">\n",
       "  <thead>\n",
       "    <tr style=\"text-align: right;\">\n",
       "      <th></th>\n",
       "      <th>customer_id</th>\n",
       "      <th>prediction</th>\n",
       "    </tr>\n",
       "  </thead>\n",
       "  <tbody>\n",
       "    <tr>\n",
       "      <th>0</th>\n",
       "      <td>00000dbacae5abe5e23885899a1fa44253a17956c6d1c3...</td>\n",
       "      <td>0568601043 0568601006 0656719005 0176209023 07...</td>\n",
       "    </tr>\n",
       "    <tr>\n",
       "      <th>1</th>\n",
       "      <td>0000423b00ade91418cceaf3b26c6af3dd342b51fd051e...</td>\n",
       "      <td>0826211002 0800436010 0673677002 0739590027 06...</td>\n",
       "    </tr>\n",
       "    <tr>\n",
       "      <th>2</th>\n",
       "      <td>000058a12d5b43e67d225668fa1f8d618c13dc232df0ca...</td>\n",
       "      <td>0794321007 0852643001 0852643003 0858883002 07...</td>\n",
       "    </tr>\n",
       "    <tr>\n",
       "      <th>3</th>\n",
       "      <td>00005ca1c9ed5f5146b52ac8639a40ca9d57aeff4d1bd2...</td>\n",
       "      <td>0448509014 0573085028 0751471001 0706016001 06...</td>\n",
       "    </tr>\n",
       "    <tr>\n",
       "      <th>4</th>\n",
       "      <td>00006413d8573cd20ed7128e53b7b13819fe5cfc2d801f...</td>\n",
       "      <td>0730683050 0791587015 0896152002 0818320001 09...</td>\n",
       "    </tr>\n",
       "  </tbody>\n",
       "</table>\n",
       "</div>"
      ],
      "text/plain": [
       "                                         customer_id  \\\n",
       "0  00000dbacae5abe5e23885899a1fa44253a17956c6d1c3...   \n",
       "1  0000423b00ade91418cceaf3b26c6af3dd342b51fd051e...   \n",
       "2  000058a12d5b43e67d225668fa1f8d618c13dc232df0ca...   \n",
       "3  00005ca1c9ed5f5146b52ac8639a40ca9d57aeff4d1bd2...   \n",
       "4  00006413d8573cd20ed7128e53b7b13819fe5cfc2d801f...   \n",
       "\n",
       "                                          prediction  \n",
       "0  0568601043 0568601006 0656719005 0176209023 07...  \n",
       "1  0826211002 0800436010 0673677002 0739590027 06...  \n",
       "2  0794321007 0852643001 0852643003 0858883002 07...  \n",
       "3  0448509014 0573085028 0751471001 0706016001 06...  \n",
       "4  0730683050 0791587015 0896152002 0818320001 09...  "
      ]
     },
     "execution_count": 39,
     "metadata": {},
     "output_type": "execute_result"
    }
   ],
   "source": [
    "sub.head()"
   ]
  },
  {
   "cell_type": "code",
   "execution_count": 40,
   "id": "4e72eae3-0c20-4e52-bdd4-beeb16e6fb82",
   "metadata": {},
   "outputs": [],
   "source": [
    "sub.to_csv('submission_trending.csv',index=False)"
   ]
  },
  {
   "cell_type": "code",
   "execution_count": null,
   "id": "2b39f887-6cac-485e-87ca-572671df9faf",
   "metadata": {},
   "outputs": [],
   "source": []
  }
 ],
 "metadata": {
  "environment": {
   "kernel": "python3",
   "name": "pytorch-gpu.1-11.m91",
   "type": "gcloud",
   "uri": "gcr.io/deeplearning-platform-release/pytorch-gpu.1-11:m91"
  },
  "kernelspec": {
   "display_name": "Python 3",
   "language": "python",
   "name": "python3"
  },
  "language_info": {
   "codemirror_mode": {
    "name": "ipython",
    "version": 3
   },
   "file_extension": ".py",
   "mimetype": "text/x-python",
   "name": "python",
   "nbconvert_exporter": "python",
   "pygments_lexer": "ipython3",
   "version": "3.7.12"
  }
 },
 "nbformat": 4,
 "nbformat_minor": 5
}
