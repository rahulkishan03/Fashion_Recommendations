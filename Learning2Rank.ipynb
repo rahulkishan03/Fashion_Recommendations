{
 "cells": [
  {
   "cell_type": "code",
   "execution_count": 1,
   "id": "d17a3275-2bfc-44f2-aabf-053d5f537c47",
   "metadata": {},
   "outputs": [],
   "source": [
    "import pandas as pd\n",
    "from sklearn import preprocessing\n",
    "import numpy as np"
   ]
  },
  {
   "cell_type": "markdown",
   "id": "4d479fc0-ccce-47e2-9f77-290edc130051",
   "metadata": {},
   "source": [
    "# Loading Datasets"
   ]
  },
  {
   "cell_type": "code",
   "execution_count": 2,
   "id": "ba001fbf-cd75-4b15-a92c-3c4ee3bda248",
   "metadata": {},
   "outputs": [],
   "source": [
    "df_articles = pd.read_csv('articles.csv', dtype={\"article_id\": \"str\"})"
   ]
  },
  {
   "cell_type": "code",
   "execution_count": 3,
   "id": "218ce7f5-45dd-4d70-b05a-b587835ce394",
   "metadata": {},
   "outputs": [],
   "source": [
    "df_transactions = pd.read_csv('transactions_train.csv', dtype={\"article_id\": \"str\"})"
   ]
  },
  {
   "cell_type": "code",
   "execution_count": 5,
   "id": "b79870ac-861f-4a31-b02a-8c4113ce1085",
   "metadata": {},
   "outputs": [],
   "source": [
    "df_customers = pd.read_csv('customers.csv')"
   ]
  },
  {
   "cell_type": "markdown",
   "id": "0214fba3-ccf5-4e67-ae6a-aab889b36d39",
   "metadata": {},
   "source": [
    "# Prepocessing and Creating New Features"
   ]
  },
  {
   "cell_type": "code",
   "execution_count": 6,
   "id": "7729309b-1bf6-4524-afc1-1779c04e727d",
   "metadata": {},
   "outputs": [],
   "source": [
    "df_transactions['t_dat'] = pd.to_datetime(df_transactions['t_dat'])"
   ]
  },
  {
   "cell_type": "code",
   "execution_count": 7,
   "id": "b79b1032-6faa-4146-80ad-dcae5b7d61a7",
   "metadata": {},
   "outputs": [],
   "source": [
    "#calculating week with final week of data has week 104\n",
    "df_transactions['week'] = 104 - (df_transactions['t_dat'].max() - df_transactions['t_dat']).dt.days // 7"
   ]
  },
  {
   "cell_type": "code",
   "execution_count": 8,
   "id": "028370af-c5e5-4dbb-8cd3-578f33343912",
   "metadata": {},
   "outputs": [],
   "source": [
    "df_articles['article_id'] = df_articles['article_id'].astype(int)"
   ]
  },
  {
   "cell_type": "code",
   "execution_count": 9,
   "id": "921a13cc-988d-40ae-8c64-fac968ae2737",
   "metadata": {},
   "outputs": [],
   "source": [
    "df_transactions['article_id'] = df_transactions['article_id'].astype(int)"
   ]
  },
  {
   "cell_type": "code",
   "execution_count": 10,
   "id": "06884ed5-4ff9-44d4-ab56-1ee5b52340c9",
   "metadata": {},
   "outputs": [
    {
     "data": {
      "text/plain": [
       "32.0"
      ]
     },
     "execution_count": 10,
     "metadata": {},
     "output_type": "execute_result"
    }
   ],
   "source": [
    "df_customers['age'].median()"
   ]
  },
  {
   "cell_type": "code",
   "execution_count": 11,
   "id": "bc5980fa-c0c2-4ce3-9786-3fad181e68d6",
   "metadata": {},
   "outputs": [],
   "source": [
    "#Replacing nan values with -1\n",
    "df_customers['age'] = df_customers['age'].fillna(-1)\n",
    "for col in ['FN', 'Active']:\n",
    "    df_customers[col].fillna(-1, inplace=True)\n",
    "    df_customers[col] = df_customers[col].astype('int')"
   ]
  },
  {
   "cell_type": "code",
   "execution_count": 12,
   "id": "53e7d763-f0a0-4cb2-9e59-401381f10db0",
   "metadata": {},
   "outputs": [],
   "source": [
    "#Replacing empty club_member_status and fashion_news_frequency with Unknown \n",
    "df_customers['club_member_status'] = df_customers['club_member_status'].fillna('Unknown')\n",
    "df_customers['fashion_news_frequency'] = df_customers['fashion_news_frequency'].fillna('Unknown')"
   ]
  },
  {
   "cell_type": "code",
   "execution_count": 13,
   "id": "e6905df4-5fc4-43a3-9450-1035513b442d",
   "metadata": {},
   "outputs": [],
   "source": [
    "#using label encoder to encode the club_member_status\n",
    "club_number_status_encoder = preprocessing.LabelEncoder()\n",
    "club_number_status_encoder.fit(df_customers['club_member_status'])\n",
    "df_customers['club_member_status'] = club_number_status_encoder.transform(df_customers['club_member_status'])\n",
    "np.save('club_member_status_classes.npy', club_number_status_encoder.classes_)"
   ]
  },
  {
   "cell_type": "code",
   "execution_count": 14,
   "id": "0b32d20c-c5f3-4b1a-8451-8c7f781ed939",
   "metadata": {},
   "outputs": [],
   "source": [
    "#using label encoder to encode the fashion_news_frequency\n",
    "fashion_news_frequency_encoder = preprocessing.LabelEncoder()\n",
    "fashion_news_frequency_encoder.fit(df_customers['fashion_news_frequency'])\n",
    "df_customers['fashion_news_frequency'] = fashion_news_frequency_encoder.transform(df_customers['fashion_news_frequency'])\n",
    "np.save('fashion_news_frequency_classes.npy', fashion_news_frequency_encoder.classes_)"
   ]
  },
  {
   "cell_type": "code",
   "execution_count": 15,
   "id": "5c979c4d-ef68-460f-9e86-d3774084e63b",
   "metadata": {},
   "outputs": [],
   "source": [
    "#using label encoder to encode the postal_code\n",
    "postal_code_encoder = preprocessing.LabelEncoder()\n",
    "postal_code_encoder.fit(df_customers['postal_code'])\n",
    "df_customers['postal_code'] = postal_code_encoder.transform(df_customers['postal_code'])\n",
    "np.save('postal_code_classes.npy', postal_code_encoder.classes_)"
   ]
  },
  {
   "cell_type": "code",
   "execution_count": 16,
   "id": "5556ca1d-4f91-4530-a1c9-c245427fcc0a",
   "metadata": {},
   "outputs": [
    {
     "name": "stdout",
     "output_type": "stream",
     "text": [
      "<class 'pandas.core.frame.DataFrame'>\n",
      "RangeIndex: 1371980 entries, 0 to 1371979\n",
      "Data columns (total 7 columns):\n",
      " #   Column                  Non-Null Count    Dtype  \n",
      "---  ------                  --------------    -----  \n",
      " 0   customer_id             1371980 non-null  object \n",
      " 1   FN                      1371980 non-null  int64  \n",
      " 2   Active                  1371980 non-null  int64  \n",
      " 3   club_member_status      1371980 non-null  int64  \n",
      " 4   fashion_news_frequency  1371980 non-null  int64  \n",
      " 5   age                     1371980 non-null  float64\n",
      " 6   postal_code             1371980 non-null  int64  \n",
      "dtypes: float64(1), int64(5), object(1)\n",
      "memory usage: 73.3+ MB\n"
     ]
    }
   ],
   "source": [
    "df_customers.info()"
   ]
  },
  {
   "cell_type": "code",
   "execution_count": 17,
   "id": "087dd266-f5d3-4ffa-977e-32f72b18d3f9",
   "metadata": {},
   "outputs": [],
   "source": [
    "df_transactions.sort_values(['t_dat', 'customer_id'], inplace=True)"
   ]
  },
  {
   "cell_type": "markdown",
   "id": "765316a0-b792-47a1-aec9-85395d9ee21c",
   "metadata": {},
   "source": [
    "# Feature Extraction"
   ]
  },
  {
   "cell_type": "code",
   "execution_count": 18,
   "id": "bd977254-5023-42cb-9875-45692eae361d",
   "metadata": {},
   "outputs": [],
   "source": [
    "'''We need to create df such that last purchase can be used to predict the next purchase. We want to consider if these are the last 10 days\n",
    "purchase then what is the chance of purchase in the current week.\n",
    "'''\n",
    "test_week = df_transactions.week.max() + 1 #Test week is 105. So, data of 95-104th week will be used to predict for 105th week\n",
    "df_transactions = df_transactions[df_transactions.week > df_transactions.week.max() - 10] #Last 10 weeks data is considered"
   ]
  },
  {
   "cell_type": "markdown",
   "id": "b3a3128a-ec0e-41b8-8822-c6fd1b4cdd19",
   "metadata": {},
   "source": [
    "### Generating candidates"
   ]
  },
  {
   "cell_type": "code",
   "execution_count": 19,
   "id": "5c040bf6-fd1e-4b5b-8909-ad41d32e65a4",
   "metadata": {},
   "outputs": [],
   "source": [
    "#extract unique customer_id and week grroup\n",
    "unique_customer_week = df_transactions.groupby('customer_id')['week'].unique()"
   ]
  },
  {
   "cell_type": "code",
   "execution_count": 20,
   "id": "ad0575c0-42c6-43fc-8321-265db5bde237",
   "metadata": {},
   "outputs": [],
   "source": [
    "#c2weeks2shifted_weeks will store two alternate puchase weeks as previous_purchase_week to current_purchase for each customers\n",
    "c2weeks2shifted_weeks = {}\n",
    "\n",
    "for c_id, weeks in unique_customer_week.items():\n",
    "    c2weeks2shifted_weeks[c_id] = {}\n",
    "    for i in range(weeks.shape[0]-1):\n",
    "        c2weeks2shifted_weeks[c_id][weeks[i]] = weeks[i+1]\n",
    "    #last purchase week of customer will be used to determine the final purchase probability\n",
    "    c2weeks2shifted_weeks[c_id][weeks[-1]] = test_week"
   ]
  },
  {
   "cell_type": "code",
   "execution_count": 21,
   "id": "04073e83-4cfd-4d59-960d-6d9f7a1c0277",
   "metadata": {},
   "outputs": [],
   "source": [
    "#Copying the Transaction dataframe\n",
    "candidates_last_purchase = df_transactions.copy()"
   ]
  },
  {
   "cell_type": "code",
   "execution_count": 22,
   "id": "8485013c-3734-4ec8-a4b3-58f2d707816d",
   "metadata": {},
   "outputs": [],
   "source": [
    "#Updating weeks as current week will be used to predict the purchase chance for next week.\n",
    "weeks = []\n",
    "for i, (c_id, week) in enumerate(zip(df_transactions['customer_id'], df_transactions['week'])):\n",
    "    weeks.append(c2weeks2shifted_weeks[c_id][week])\n",
    "candidates_last_purchase.week=weeks"
   ]
  },
  {
   "cell_type": "markdown",
   "id": "c4096d9c-e5b4-4561-bc4b-9015d6714454",
   "metadata": {},
   "source": [
    "### Bestseller Candidates"
   ]
  },
  {
   "cell_type": "code",
   "execution_count": 23,
   "id": "587d59fd-d599-4d4d-a591-4f961a482429",
   "metadata": {},
   "outputs": [],
   "source": [
    "#Calculating Mean price for each week and article_id group\n",
    "mean_price = df_transactions.groupby(['week', 'article_id'])['price'].mean()"
   ]
  },
  {
   "cell_type": "code",
   "execution_count": 24,
   "id": "c4cdf808-9ab1-4007-ac39-ff40e2073e66",
   "metadata": {},
   "outputs": [],
   "source": [
    "#Calculate top 12 article on the basis of purchase of article id count per week.\n",
    "#Assign rank to top 12 articles\n",
    "sales = df_transactions \\\n",
    "    .groupby('week')['article_id'].value_counts() \\\n",
    "    .groupby('week').rank(method='dense', ascending=False) \\\n",
    "    .groupby('week').head(12).rename('bestseller_rank').astype('int8')"
   ]
  },
  {
   "cell_type": "code",
   "execution_count": 25,
   "id": "67f0b905-0530-4b88-962a-fce6a8a6dd36",
   "metadata": {},
   "outputs": [],
   "source": [
    "#Combining Top 12 articles of week to the price . Again current week is going to be used for next week. So, Incremented the current week by 1\n",
    "bestsellers_previous_week = pd.merge(sales, mean_price, on=['week', 'article_id']).reset_index()\n",
    "bestsellers_previous_week.week += 1"
   ]
  },
  {
   "cell_type": "code",
   "execution_count": 26,
   "id": "b3d22a56-980c-4b6c-9932-79c9d3d694b0",
   "metadata": {},
   "outputs": [],
   "source": [
    "#Extracting unique week and customer_id for each week, this will be used to generate candidates\n",
    "unique_transactions = df_transactions .groupby(['week', 'customer_id']) .head(1).drop(columns=['article_id', 'price']).copy()\n",
    "#Combine each customer with top 12 articles as samples.\n",
    "candidates_bestsellers = pd.merge(unique_transactions,bestsellers_previous_week,on='week',)\n",
    "#This generated candidates will be used as test dataset and also, assign test_week as the week value for this dataframe \n",
    "test_set_transactions = unique_transactions.drop_duplicates('customer_id').reset_index(drop=True)\n",
    "test_set_transactions.week = test_week"
   ]
  },
  {
   "cell_type": "code",
   "execution_count": 27,
   "id": "7541a161-698b-4b81-b558-6e5ac5d7efeb",
   "metadata": {},
   "outputs": [],
   "source": [
    "#Previous best seller and Candidate bestseller are combined to get sampling data\n",
    "candidates_bestsellers_test_week = pd.merge(test_set_transactions,bestsellers_previous_week,on='week')\n",
    "candidates_bestsellers = pd.concat([candidates_bestsellers, candidates_bestsellers_test_week])\n",
    "candidates_bestsellers.drop(columns='bestseller_rank', inplace=True)"
   ]
  },
  {
   "cell_type": "markdown",
   "id": "90d309f1-798d-4ea3-b723-86412516bf7a",
   "metadata": {},
   "source": [
    "### Combining transactions and candidates / negative examples"
   ]
  },
  {
   "cell_type": "code",
   "execution_count": 28,
   "id": "2a9ff5d2-f0c5-4fc8-a87c-c3805207858e",
   "metadata": {},
   "outputs": [],
   "source": [
    "#Assigning purchase target value as 1 because it \n",
    "df_transactions['purchased'] = 1"
   ]
  },
  {
   "cell_type": "code",
   "execution_count": 29,
   "id": "65025ab4-2102-480e-b3c4-8b99ea38950a",
   "metadata": {},
   "outputs": [
    {
     "data": {
      "text/plain": [
       "(2762872, 7)"
      ]
     },
     "execution_count": 29,
     "metadata": {},
     "output_type": "execute_result"
    }
   ],
   "source": [
    "df_transactions.shape"
   ]
  },
  {
   "cell_type": "code",
   "execution_count": 30,
   "id": "72e9ec9d-d464-4a45-9dc9-b78950fd172f",
   "metadata": {},
   "outputs": [],
   "source": [
    "#Concating df_transactions, candidates_last_purchase, candidates_bestsellers\n",
    "data = pd.concat([df_transactions, candidates_last_purchase, candidates_bestsellers])\n",
    "#Articles which are not being purchase customer in data. It will work as negative sampling. So, they will have purchased value 0\n",
    "data.purchased.fillna(0, inplace=True)"
   ]
  },
  {
   "cell_type": "code",
   "execution_count": 31,
   "id": "12054c86-e6b6-4822-8046-d3552dcf9113",
   "metadata": {},
   "outputs": [],
   "source": [
    "#keeping unique custome_id, article_id and week\n",
    "data.drop_duplicates(['customer_id', 'article_id', 'week'], inplace=True)"
   ]
  },
  {
   "cell_type": "markdown",
   "id": "6169f2e8-3b3d-41ea-b42d-457c2dd4f57b",
   "metadata": {},
   "source": [
    "### Add bestseller information"
   ]
  },
  {
   "cell_type": "code",
   "execution_count": 32,
   "id": "fe74e44e-d0ec-410b-bfc5-219435eb8ded",
   "metadata": {},
   "outputs": [],
   "source": [
    "#Adding bestseller product information by merging\n",
    "data = pd.merge(data,bestsellers_previous_week[['week', 'article_id', 'bestseller_rank']],on=['week', 'article_id'],how='left')"
   ]
  },
  {
   "cell_type": "code",
   "execution_count": 33,
   "id": "7c036193-d60a-4645-a251-b1ddf32d0a05",
   "metadata": {},
   "outputs": [],
   "source": [
    "#User who made less than 10 puchase(non frequent customer), removing those users from the list\n",
    "data_customer = data.loc[data['purchased'] ==1,:].groupby('customer_id').size().reset_index().rename(columns={0:'count'})\n",
    "non_freq_customer = data_customer.loc[data_customer['count'] < 10, 'customer_id'].tolist()\n",
    "data = data.loc[~data['customer_id'].isin(non_freq_customer), :]"
   ]
  },
  {
   "cell_type": "code",
   "execution_count": 34,
   "id": "f304e187-7d5b-4f18-a87f-a5f314c01219",
   "metadata": {},
   "outputs": [],
   "source": [
    "del data_customer"
   ]
  },
  {
   "cell_type": "code",
   "execution_count": 35,
   "id": "779af1f1-ff20-463d-b2c2-c45a931c36f9",
   "metadata": {},
   "outputs": [
    {
     "data": {
      "text/plain": [
       "(5516360, 8)"
      ]
     },
     "execution_count": 35,
     "metadata": {},
     "output_type": "execute_result"
    }
   ],
   "source": [
    "data.shape"
   ]
  },
  {
   "cell_type": "code",
   "execution_count": 36,
   "id": "f8eda6f7-6b13-466d-8d21-fd1b762d8dbc",
   "metadata": {},
   "outputs": [
    {
     "data": {
      "text/html": [
       "<div>\n",
       "<style scoped>\n",
       "    .dataframe tbody tr th:only-of-type {\n",
       "        vertical-align: middle;\n",
       "    }\n",
       "\n",
       "    .dataframe tbody tr th {\n",
       "        vertical-align: top;\n",
       "    }\n",
       "\n",
       "    .dataframe thead th {\n",
       "        text-align: right;\n",
       "    }\n",
       "</style>\n",
       "<table border=\"1\" class=\"dataframe\">\n",
       "  <thead>\n",
       "    <tr style=\"text-align: right;\">\n",
       "      <th></th>\n",
       "      <th>t_dat</th>\n",
       "      <th>customer_id</th>\n",
       "      <th>article_id</th>\n",
       "      <th>price</th>\n",
       "      <th>sales_channel_id</th>\n",
       "      <th>week</th>\n",
       "      <th>purchased</th>\n",
       "      <th>bestseller_rank</th>\n",
       "    </tr>\n",
       "  </thead>\n",
       "  <tbody>\n",
       "    <tr>\n",
       "      <th>0</th>\n",
       "      <td>2020-07-15</td>\n",
       "      <td>0001d44dbe7f6c4b35200abdb052c77a87596fe1bdcc37...</td>\n",
       "      <td>796239001</td>\n",
       "      <td>0.022017</td>\n",
       "      <td>2</td>\n",
       "      <td>95</td>\n",
       "      <td>1.0</td>\n",
       "      <td>NaN</td>\n",
       "    </tr>\n",
       "    <tr>\n",
       "      <th>1</th>\n",
       "      <td>2020-07-15</td>\n",
       "      <td>0001d44dbe7f6c4b35200abdb052c77a87596fe1bdcc37...</td>\n",
       "      <td>880696008</td>\n",
       "      <td>0.084729</td>\n",
       "      <td>2</td>\n",
       "      <td>95</td>\n",
       "      <td>1.0</td>\n",
       "      <td>NaN</td>\n",
       "    </tr>\n",
       "    <tr>\n",
       "      <th>2</th>\n",
       "      <td>2020-07-15</td>\n",
       "      <td>0001d44dbe7f6c4b35200abdb052c77a87596fe1bdcc37...</td>\n",
       "      <td>885827001</td>\n",
       "      <td>0.050831</td>\n",
       "      <td>2</td>\n",
       "      <td>95</td>\n",
       "      <td>1.0</td>\n",
       "      <td>NaN</td>\n",
       "    </tr>\n",
       "    <tr>\n",
       "      <th>3</th>\n",
       "      <td>2020-07-15</td>\n",
       "      <td>0001d44dbe7f6c4b35200abdb052c77a87596fe1bdcc37...</td>\n",
       "      <td>868544001</td>\n",
       "      <td>0.025407</td>\n",
       "      <td>2</td>\n",
       "      <td>95</td>\n",
       "      <td>1.0</td>\n",
       "      <td>NaN</td>\n",
       "    </tr>\n",
       "    <tr>\n",
       "      <th>4</th>\n",
       "      <td>2020-07-15</td>\n",
       "      <td>0001d44dbe7f6c4b35200abdb052c77a87596fe1bdcc37...</td>\n",
       "      <td>888519001</td>\n",
       "      <td>0.030492</td>\n",
       "      <td>2</td>\n",
       "      <td>95</td>\n",
       "      <td>1.0</td>\n",
       "      <td>NaN</td>\n",
       "    </tr>\n",
       "  </tbody>\n",
       "</table>\n",
       "</div>"
      ],
      "text/plain": [
       "       t_dat                                        customer_id  article_id  \\\n",
       "0 2020-07-15  0001d44dbe7f6c4b35200abdb052c77a87596fe1bdcc37...   796239001   \n",
       "1 2020-07-15  0001d44dbe7f6c4b35200abdb052c77a87596fe1bdcc37...   880696008   \n",
       "2 2020-07-15  0001d44dbe7f6c4b35200abdb052c77a87596fe1bdcc37...   885827001   \n",
       "3 2020-07-15  0001d44dbe7f6c4b35200abdb052c77a87596fe1bdcc37...   868544001   \n",
       "4 2020-07-15  0001d44dbe7f6c4b35200abdb052c77a87596fe1bdcc37...   888519001   \n",
       "\n",
       "      price  sales_channel_id  week  purchased  bestseller_rank  \n",
       "0  0.022017                 2    95        1.0              NaN  \n",
       "1  0.084729                 2    95        1.0              NaN  \n",
       "2  0.050831                 2    95        1.0              NaN  \n",
       "3  0.025407                 2    95        1.0              NaN  \n",
       "4  0.030492                 2    95        1.0              NaN  "
      ]
     },
     "execution_count": 36,
     "metadata": {},
     "output_type": "execute_result"
    }
   ],
   "source": [
    "data.head()"
   ]
  },
  {
   "cell_type": "code",
   "execution_count": 37,
   "id": "04890f9d-a0a1-415e-bcfd-5e34b8f0ee33",
   "metadata": {},
   "outputs": [],
   "source": [
    "#Other tha top 12 assigning 999 as bestseller rank and remove last week data as there will be empty bestseller field for all the rows/\n",
    "data = data[data.week != data.week.min()]\n",
    "data.bestseller_rank.fillna(999, inplace=True)"
   ]
  },
  {
   "cell_type": "code",
   "execution_count": 38,
   "id": "f095196c-5b03-49a3-b72f-a5b6b6645b08",
   "metadata": {},
   "outputs": [],
   "source": [
    "#Merging with with customer and article id to get all the information of article id and customerid \n",
    "data = pd.merge(data, df_articles, on='article_id', how='left')\n",
    "data = pd.merge(data, df_customers, on='customer_id', how='left')"
   ]
  },
  {
   "cell_type": "code",
   "execution_count": 39,
   "id": "a9a68c24-103e-4c4d-aff1-c1f24eafcec3",
   "metadata": {},
   "outputs": [],
   "source": [
    "#Sorting dataframe according to the week and customer_id\n",
    "data.sort_values(['week', 'customer_id'], inplace=True)\n",
    "data.reset_index(drop=True, inplace=True)"
   ]
  },
  {
   "cell_type": "code",
   "execution_count": 40,
   "id": "bdea2219-3bcf-4a02-9a5d-c9e4bc7dcfeb",
   "metadata": {},
   "outputs": [],
   "source": [
    "#Splitting in train and test data\n",
    "train = data[data.week != test_week]\n",
    "test = data[data.week==test_week].drop_duplicates(['customer_id', 'article_id', 'sales_channel_id']).copy()"
   ]
  },
  {
   "cell_type": "code",
   "execution_count": 41,
   "id": "952c6072-5d91-400f-b22a-aa1d42726d31",
   "metadata": {},
   "outputs": [],
   "source": [
    "#Creating train basket with grouping on week and customer with article_id count\n",
    "train_baskets = train.groupby(['week', 'customer_id'])['article_id'].count().values"
   ]
  },
  {
   "cell_type": "code",
   "execution_count": 42,
   "id": "c4b85183-48b0-491c-a74c-d4359412c14b",
   "metadata": {},
   "outputs": [],
   "source": [
    "#Columns used in training\n",
    "columns_to_use = ['article_id', 'product_type_no', 'graphical_appearance_no', 'colour_group_code', 'perceived_colour_value_id',\n",
    "'perceived_colour_master_id', 'department_no',\n",
    "'index_group_no', 'section_no', 'garment_group_no', 'FN', 'Active',\n",
    "'club_member_status', 'fashion_news_frequency', 'age', 'postal_code', 'bestseller_rank']"
   ]
  },
  {
   "cell_type": "code",
   "execution_count": 43,
   "id": "17d3c5aa-2dfd-47f0-a1d8-4fe4855638fd",
   "metadata": {},
   "outputs": [],
   "source": [
    "train_X = train[columns_to_use]\n",
    "train_y = train['purchased']\n",
    "test_X = test[columns_to_use]"
   ]
  },
  {
   "cell_type": "code",
   "execution_count": 44,
   "id": "f1d2a038-c461-453d-9004-a42be2422073",
   "metadata": {},
   "outputs": [
    {
     "data": {
      "text/html": [
       "<div>\n",
       "<style scoped>\n",
       "    .dataframe tbody tr th:only-of-type {\n",
       "        vertical-align: middle;\n",
       "    }\n",
       "\n",
       "    .dataframe tbody tr th {\n",
       "        vertical-align: top;\n",
       "    }\n",
       "\n",
       "    .dataframe thead th {\n",
       "        text-align: right;\n",
       "    }\n",
       "</style>\n",
       "<table border=\"1\" class=\"dataframe\">\n",
       "  <thead>\n",
       "    <tr style=\"text-align: right;\">\n",
       "      <th></th>\n",
       "      <th>article_id</th>\n",
       "      <th>purchased</th>\n",
       "    </tr>\n",
       "  </thead>\n",
       "  <tbody>\n",
       "    <tr>\n",
       "      <th>0</th>\n",
       "      <td>869095001</td>\n",
       "      <td>1.0</td>\n",
       "    </tr>\n",
       "    <tr>\n",
       "      <th>1</th>\n",
       "      <td>866097004</td>\n",
       "      <td>1.0</td>\n",
       "    </tr>\n",
       "    <tr>\n",
       "      <th>2</th>\n",
       "      <td>921646001</td>\n",
       "      <td>1.0</td>\n",
       "    </tr>\n",
       "    <tr>\n",
       "      <th>3</th>\n",
       "      <td>796239001</td>\n",
       "      <td>0.0</td>\n",
       "    </tr>\n",
       "    <tr>\n",
       "      <th>4</th>\n",
       "      <td>880696008</td>\n",
       "      <td>0.0</td>\n",
       "    </tr>\n",
       "    <tr>\n",
       "      <th>5</th>\n",
       "      <td>885827001</td>\n",
       "      <td>0.0</td>\n",
       "    </tr>\n",
       "    <tr>\n",
       "      <th>6</th>\n",
       "      <td>868544001</td>\n",
       "      <td>0.0</td>\n",
       "    </tr>\n",
       "    <tr>\n",
       "      <th>7</th>\n",
       "      <td>888519001</td>\n",
       "      <td>0.0</td>\n",
       "    </tr>\n",
       "    <tr>\n",
       "      <th>8</th>\n",
       "      <td>888010002</td>\n",
       "      <td>0.0</td>\n",
       "    </tr>\n",
       "    <tr>\n",
       "      <th>9</th>\n",
       "      <td>851802001</td>\n",
       "      <td>0.0</td>\n",
       "    </tr>\n",
       "  </tbody>\n",
       "</table>\n",
       "</div>"
      ],
      "text/plain": [
       "   article_id  purchased\n",
       "0   869095001        1.0\n",
       "1   866097004        1.0\n",
       "2   921646001        1.0\n",
       "3   796239001        0.0\n",
       "4   880696008        0.0\n",
       "5   885827001        0.0\n",
       "6   868544001        0.0\n",
       "7   888519001        0.0\n",
       "8   888010002        0.0\n",
       "9   851802001        0.0"
      ]
     },
     "execution_count": 44,
     "metadata": {},
     "output_type": "execute_result"
    }
   ],
   "source": [
    "train[['article_id','purchased']].head(10)"
   ]
  },
  {
   "cell_type": "code",
   "execution_count": 45,
   "id": "9666da34-0dc2-4cf3-8089-b4c0e7b063b5",
   "metadata": {},
   "outputs": [
    {
     "data": {
      "text/html": [
       "<div>\n",
       "<style scoped>\n",
       "    .dataframe tbody tr th:only-of-type {\n",
       "        vertical-align: middle;\n",
       "    }\n",
       "\n",
       "    .dataframe tbody tr th {\n",
       "        vertical-align: top;\n",
       "    }\n",
       "\n",
       "    .dataframe thead th {\n",
       "        text-align: right;\n",
       "    }\n",
       "</style>\n",
       "<table border=\"1\" class=\"dataframe\">\n",
       "  <thead>\n",
       "    <tr style=\"text-align: right;\">\n",
       "      <th></th>\n",
       "      <th>article_id</th>\n",
       "      <th>product_type_no</th>\n",
       "      <th>graphical_appearance_no</th>\n",
       "      <th>colour_group_code</th>\n",
       "      <th>perceived_colour_value_id</th>\n",
       "      <th>perceived_colour_master_id</th>\n",
       "      <th>department_no</th>\n",
       "      <th>index_group_no</th>\n",
       "      <th>section_no</th>\n",
       "      <th>garment_group_no</th>\n",
       "      <th>FN</th>\n",
       "      <th>Active</th>\n",
       "      <th>club_member_status</th>\n",
       "      <th>fashion_news_frequency</th>\n",
       "      <th>age</th>\n",
       "      <th>postal_code</th>\n",
       "      <th>bestseller_rank</th>\n",
       "    </tr>\n",
       "  </thead>\n",
       "  <tbody>\n",
       "    <tr>\n",
       "      <th>0</th>\n",
       "      <td>869095001</td>\n",
       "      <td>92</td>\n",
       "      <td>1010016</td>\n",
       "      <td>72</td>\n",
       "      <td>5</td>\n",
       "      <td>2</td>\n",
       "      <td>3040</td>\n",
       "      <td>1</td>\n",
       "      <td>64</td>\n",
       "      <td>1020</td>\n",
       "      <td>1</td>\n",
       "      <td>1</td>\n",
       "      <td>0</td>\n",
       "      <td>3</td>\n",
       "      <td>44.0</td>\n",
       "      <td>202732</td>\n",
       "      <td>999.0</td>\n",
       "    </tr>\n",
       "    <tr>\n",
       "      <th>1</th>\n",
       "      <td>866097004</td>\n",
       "      <td>91</td>\n",
       "      <td>1010017</td>\n",
       "      <td>9</td>\n",
       "      <td>4</td>\n",
       "      <td>5</td>\n",
       "      <td>3527</td>\n",
       "      <td>1</td>\n",
       "      <td>64</td>\n",
       "      <td>1020</td>\n",
       "      <td>1</td>\n",
       "      <td>1</td>\n",
       "      <td>0</td>\n",
       "      <td>3</td>\n",
       "      <td>44.0</td>\n",
       "      <td>202732</td>\n",
       "      <td>999.0</td>\n",
       "    </tr>\n",
       "    <tr>\n",
       "      <th>2</th>\n",
       "      <td>921646001</td>\n",
       "      <td>254</td>\n",
       "      <td>1010016</td>\n",
       "      <td>9</td>\n",
       "      <td>4</td>\n",
       "      <td>5</td>\n",
       "      <td>8316</td>\n",
       "      <td>26</td>\n",
       "      <td>5</td>\n",
       "      <td>1005</td>\n",
       "      <td>1</td>\n",
       "      <td>1</td>\n",
       "      <td>0</td>\n",
       "      <td>3</td>\n",
       "      <td>44.0</td>\n",
       "      <td>202732</td>\n",
       "      <td>999.0</td>\n",
       "    </tr>\n",
       "    <tr>\n",
       "      <th>3</th>\n",
       "      <td>796239001</td>\n",
       "      <td>265</td>\n",
       "      <td>1010016</td>\n",
       "      <td>32</td>\n",
       "      <td>5</td>\n",
       "      <td>3</td>\n",
       "      <td>3090</td>\n",
       "      <td>1</td>\n",
       "      <td>15</td>\n",
       "      <td>1023</td>\n",
       "      <td>1</td>\n",
       "      <td>1</td>\n",
       "      <td>0</td>\n",
       "      <td>3</td>\n",
       "      <td>44.0</td>\n",
       "      <td>202732</td>\n",
       "      <td>999.0</td>\n",
       "    </tr>\n",
       "    <tr>\n",
       "      <th>4</th>\n",
       "      <td>880696008</td>\n",
       "      <td>265</td>\n",
       "      <td>1010016</td>\n",
       "      <td>32</td>\n",
       "      <td>7</td>\n",
       "      <td>3</td>\n",
       "      <td>1941</td>\n",
       "      <td>1</td>\n",
       "      <td>18</td>\n",
       "      <td>1010</td>\n",
       "      <td>1</td>\n",
       "      <td>1</td>\n",
       "      <td>0</td>\n",
       "      <td>3</td>\n",
       "      <td>44.0</td>\n",
       "      <td>202732</td>\n",
       "      <td>999.0</td>\n",
       "    </tr>\n",
       "  </tbody>\n",
       "</table>\n",
       "</div>"
      ],
      "text/plain": [
       "   article_id  product_type_no  graphical_appearance_no  colour_group_code  \\\n",
       "0   869095001               92                  1010016                 72   \n",
       "1   866097004               91                  1010017                  9   \n",
       "2   921646001              254                  1010016                  9   \n",
       "3   796239001              265                  1010016                 32   \n",
       "4   880696008              265                  1010016                 32   \n",
       "\n",
       "   perceived_colour_value_id  perceived_colour_master_id  department_no  \\\n",
       "0                          5                           2           3040   \n",
       "1                          4                           5           3527   \n",
       "2                          4                           5           8316   \n",
       "3                          5                           3           3090   \n",
       "4                          7                           3           1941   \n",
       "\n",
       "   index_group_no  section_no  garment_group_no  FN  Active  \\\n",
       "0               1          64              1020   1       1   \n",
       "1               1          64              1020   1       1   \n",
       "2              26           5              1005   1       1   \n",
       "3               1          15              1023   1       1   \n",
       "4               1          18              1010   1       1   \n",
       "\n",
       "   club_member_status  fashion_news_frequency   age  postal_code  \\\n",
       "0                   0                       3  44.0       202732   \n",
       "1                   0                       3  44.0       202732   \n",
       "2                   0                       3  44.0       202732   \n",
       "3                   0                       3  44.0       202732   \n",
       "4                   0                       3  44.0       202732   \n",
       "\n",
       "   bestseller_rank  \n",
       "0            999.0  \n",
       "1            999.0  \n",
       "2            999.0  \n",
       "3            999.0  \n",
       "4            999.0  "
      ]
     },
     "execution_count": 45,
     "metadata": {},
     "output_type": "execute_result"
    }
   ],
   "source": [
    "train_X.head()"
   ]
  },
  {
   "cell_type": "code",
   "execution_count": 46,
   "id": "952a1a33-9740-4618-86de-504b69f9eb9f",
   "metadata": {},
   "outputs": [
    {
     "data": {
      "text/plain": [
       "(4136829, 17)"
      ]
     },
     "execution_count": 46,
     "metadata": {},
     "output_type": "execute_result"
    }
   ],
   "source": [
    "train_X.shape"
   ]
  },
  {
   "cell_type": "code",
   "execution_count": 47,
   "id": "34d63440-3e69-41a8-995e-2ca984327a7e",
   "metadata": {},
   "outputs": [
    {
     "data": {
      "text/plain": [
       "(1257962, 17)"
      ]
     },
     "execution_count": 47,
     "metadata": {},
     "output_type": "execute_result"
    }
   ],
   "source": [
    "test_X.shape"
   ]
  },
  {
   "cell_type": "markdown",
   "id": "f34d665b-06b1-473f-9e83-50fcb031ea25",
   "metadata": {},
   "source": [
    "# Modeling"
   ]
  },
  {
   "cell_type": "code",
   "execution_count": 48,
   "id": "38c5a020-d5b4-43b5-abbc-0eba60c1aa07",
   "metadata": {},
   "outputs": [
    {
     "name": "stdout",
     "output_type": "stream",
     "text": [
      "Requirement already satisfied: lightgbm in /opt/conda/lib/python3.7/site-packages (3.3.2)\n",
      "Requirement already satisfied: scipy in /opt/conda/lib/python3.7/site-packages (from lightgbm) (1.6.0)\n",
      "Requirement already satisfied: scikit-learn!=0.22.0 in /opt/conda/lib/python3.7/site-packages (from lightgbm) (1.0.2)\n",
      "Requirement already satisfied: wheel in /opt/conda/lib/python3.7/site-packages (from lightgbm) (0.37.1)\n",
      "Requirement already satisfied: numpy in /opt/conda/lib/python3.7/site-packages (from lightgbm) (1.21.6)\n",
      "Requirement already satisfied: threadpoolctl>=2.0.0 in /opt/conda/lib/python3.7/site-packages (from scikit-learn!=0.22.0->lightgbm) (3.1.0)\n",
      "Requirement already satisfied: joblib>=0.11 in /opt/conda/lib/python3.7/site-packages (from scikit-learn!=0.22.0->lightgbm) (1.1.0)\n"
     ]
    }
   ],
   "source": [
    "!pip install lightgbm"
   ]
  },
  {
   "cell_type": "code",
   "execution_count": 49,
   "id": "b0052091-102e-4bd0-8677-519b447c925e",
   "metadata": {},
   "outputs": [],
   "source": [
    "from lightgbm.sklearn import LGBMRanker"
   ]
  },
  {
   "cell_type": "code",
   "execution_count": 50,
   "id": "8aa01df8-e0eb-4c8d-81fc-8ebdab485492",
   "metadata": {},
   "outputs": [],
   "source": [
    "ranker = LGBMRanker(\n",
    "    objective=\"lambdarank\",\n",
    "    metric=\"ndcg\",\n",
    "    boosting_type=\"dart\",\n",
    "    n_estimators=200,\n",
    "    importance_type='gain',\n",
    "    verbose=100,\n",
    "    learning_rate=0.01,\n",
    "    random_state=42\n",
    ")"
   ]
  },
  {
   "cell_type": "code",
   "execution_count": 51,
   "id": "7a1e51d2-6db1-4932-a422-32f8975d97b3",
   "metadata": {},
   "outputs": [
    {
     "name": "stderr",
     "output_type": "stream",
     "text": [
      "/opt/conda/lib/python3.7/site-packages/lightgbm/sklearn.py:736: UserWarning: 'verbose' argument is deprecated and will be removed in a future release of LightGBM. Pass 'log_evaluation()' callback via 'callbacks' argument instead.\n",
      "  _log_warning(\"'verbose' argument is deprecated and will be removed in a future release of LightGBM. \"\n"
     ]
    },
    {
     "name": "stdout",
     "output_type": "stream",
     "text": [
      "[LightGBM] [Debug] Dataset::GetMultiBinFromAllFeatures: sparse rate 0.058509\n",
      "[LightGBM] [Debug] init for col-wise cost 0.000065 seconds, init for row-wise cost 0.176458 seconds\n",
      "[LightGBM] [Warning] Auto-choosing row-wise multi-threading, the overhead of testing was 0.063115 seconds.\n",
      "You can set `force_row_wise=true` to remove the overhead.\n",
      "And if memory is not enough, you can set `force_col_wise=true`.\n",
      "[LightGBM] [Debug] Using Dense Multi-Val Bin\n",
      "[LightGBM] [Info] Total Bins 1079\n",
      "[LightGBM] [Info] Number of data points in the train set: 4136829, number of used features: 17\n",
      "[LightGBM] [Debug] Trained a tree with leaves = 31 and depth = 11\n",
      "[LightGBM] [Debug] Trained a tree with leaves = 31 and depth = 11\n",
      "[LightGBM] [Debug] Trained a tree with leaves = 31 and depth = 11\n",
      "[LightGBM] [Debug] Trained a tree with leaves = 31 and depth = 9\n",
      "[LightGBM] [Debug] Trained a tree with leaves = 31 and depth = 9\n",
      "[LightGBM] [Debug] Trained a tree with leaves = 31 and depth = 10\n",
      "[LightGBM] [Debug] Trained a tree with leaves = 31 and depth = 9\n",
      "[LightGBM] [Debug] Trained a tree with leaves = 31 and depth = 10\n",
      "[LightGBM] [Debug] Trained a tree with leaves = 31 and depth = 10\n",
      "[LightGBM] [Debug] Trained a tree with leaves = 31 and depth = 10\n",
      "[LightGBM] [Debug] Trained a tree with leaves = 31 and depth = 10\n",
      "[LightGBM] [Debug] Trained a tree with leaves = 31 and depth = 10\n",
      "[LightGBM] [Debug] Trained a tree with leaves = 31 and depth = 10\n",
      "[LightGBM] [Debug] Trained a tree with leaves = 31 and depth = 10\n",
      "[LightGBM] [Debug] Trained a tree with leaves = 31 and depth = 10\n",
      "[LightGBM] [Debug] Trained a tree with leaves = 31 and depth = 8\n",
      "[LightGBM] [Debug] Trained a tree with leaves = 31 and depth = 10\n",
      "[LightGBM] [Debug] Trained a tree with leaves = 31 and depth = 8\n",
      "[LightGBM] [Debug] Trained a tree with leaves = 31 and depth = 11\n",
      "[LightGBM] [Debug] Trained a tree with leaves = 31 and depth = 11\n",
      "[LightGBM] [Debug] Trained a tree with leaves = 31 and depth = 10\n",
      "[LightGBM] [Debug] Trained a tree with leaves = 31 and depth = 11\n",
      "[LightGBM] [Debug] Trained a tree with leaves = 31 and depth = 10\n",
      "[LightGBM] [Debug] Trained a tree with leaves = 31 and depth = 11\n",
      "[LightGBM] [Debug] Trained a tree with leaves = 31 and depth = 8\n",
      "[LightGBM] [Debug] Trained a tree with leaves = 31 and depth = 8\n",
      "[LightGBM] [Debug] Trained a tree with leaves = 31 and depth = 8\n",
      "[LightGBM] [Debug] Trained a tree with leaves = 31 and depth = 9\n",
      "[LightGBM] [Debug] Trained a tree with leaves = 31 and depth = 8\n",
      "[LightGBM] [Debug] Trained a tree with leaves = 31 and depth = 8\n",
      "[LightGBM] [Debug] Trained a tree with leaves = 31 and depth = 8\n",
      "[LightGBM] [Debug] Trained a tree with leaves = 31 and depth = 9\n",
      "[LightGBM] [Debug] Trained a tree with leaves = 31 and depth = 8\n",
      "[LightGBM] [Debug] Trained a tree with leaves = 31 and depth = 8\n",
      "[LightGBM] [Debug] Trained a tree with leaves = 31 and depth = 8\n",
      "[LightGBM] [Debug] Trained a tree with leaves = 31 and depth = 8\n",
      "[LightGBM] [Debug] Trained a tree with leaves = 31 and depth = 9\n",
      "[LightGBM] [Debug] Trained a tree with leaves = 31 and depth = 8\n",
      "[LightGBM] [Debug] Trained a tree with leaves = 31 and depth = 9\n",
      "[LightGBM] [Debug] Trained a tree with leaves = 31 and depth = 10\n",
      "[LightGBM] [Debug] Trained a tree with leaves = 31 and depth = 10\n",
      "[LightGBM] [Debug] Trained a tree with leaves = 31 and depth = 8\n",
      "[LightGBM] [Debug] Trained a tree with leaves = 31 and depth = 10\n",
      "[LightGBM] [Debug] Trained a tree with leaves = 31 and depth = 9\n",
      "[LightGBM] [Debug] Trained a tree with leaves = 31 and depth = 10\n",
      "[LightGBM] [Debug] Trained a tree with leaves = 31 and depth = 10\n",
      "[LightGBM] [Debug] Trained a tree with leaves = 31 and depth = 8\n",
      "[LightGBM] [Debug] Trained a tree with leaves = 31 and depth = 9\n",
      "[LightGBM] [Debug] Trained a tree with leaves = 31 and depth = 10\n",
      "[LightGBM] [Debug] Trained a tree with leaves = 31 and depth = 9\n",
      "[LightGBM] [Debug] Trained a tree with leaves = 31 and depth = 10\n",
      "[LightGBM] [Debug] Trained a tree with leaves = 31 and depth = 10\n",
      "[LightGBM] [Debug] Trained a tree with leaves = 31 and depth = 10\n",
      "[LightGBM] [Debug] Trained a tree with leaves = 31 and depth = 10\n",
      "[LightGBM] [Debug] Trained a tree with leaves = 31 and depth = 10\n",
      "[LightGBM] [Debug] Trained a tree with leaves = 31 and depth = 10\n",
      "[LightGBM] [Debug] Trained a tree with leaves = 31 and depth = 10\n",
      "[LightGBM] [Debug] Trained a tree with leaves = 31 and depth = 10\n",
      "[LightGBM] [Debug] Trained a tree with leaves = 31 and depth = 10\n",
      "[LightGBM] [Debug] Trained a tree with leaves = 31 and depth = 10\n",
      "[LightGBM] [Debug] Trained a tree with leaves = 31 and depth = 8\n",
      "[LightGBM] [Debug] Trained a tree with leaves = 31 and depth = 10\n",
      "[LightGBM] [Debug] Trained a tree with leaves = 31 and depth = 8\n",
      "[LightGBM] [Debug] Trained a tree with leaves = 31 and depth = 10\n",
      "[LightGBM] [Debug] Trained a tree with leaves = 31 and depth = 10\n",
      "[LightGBM] [Debug] Trained a tree with leaves = 31 and depth = 10\n",
      "[LightGBM] [Debug] Trained a tree with leaves = 31 and depth = 10\n",
      "[LightGBM] [Debug] Trained a tree with leaves = 31 and depth = 8\n",
      "[LightGBM] [Debug] Trained a tree with leaves = 31 and depth = 10\n",
      "[LightGBM] [Debug] Trained a tree with leaves = 31 and depth = 9\n",
      "[LightGBM] [Debug] Trained a tree with leaves = 31 and depth = 9\n",
      "[LightGBM] [Debug] Trained a tree with leaves = 31 and depth = 10\n",
      "[LightGBM] [Debug] Trained a tree with leaves = 31 and depth = 10\n",
      "[LightGBM] [Debug] Trained a tree with leaves = 31 and depth = 10\n",
      "[LightGBM] [Debug] Trained a tree with leaves = 31 and depth = 9\n",
      "[LightGBM] [Debug] Trained a tree with leaves = 31 and depth = 10\n",
      "[LightGBM] [Debug] Trained a tree with leaves = 31 and depth = 9\n",
      "[LightGBM] [Debug] Trained a tree with leaves = 31 and depth = 11\n",
      "[LightGBM] [Debug] Trained a tree with leaves = 31 and depth = 9\n",
      "[LightGBM] [Debug] Trained a tree with leaves = 31 and depth = 11\n",
      "[LightGBM] [Debug] Trained a tree with leaves = 31 and depth = 11\n",
      "[LightGBM] [Debug] Trained a tree with leaves = 31 and depth = 12\n",
      "[LightGBM] [Debug] Trained a tree with leaves = 31 and depth = 10\n",
      "[LightGBM] [Debug] Trained a tree with leaves = 31 and depth = 9\n",
      "[LightGBM] [Debug] Trained a tree with leaves = 31 and depth = 10\n",
      "[LightGBM] [Debug] Trained a tree with leaves = 31 and depth = 11\n",
      "[LightGBM] [Debug] Trained a tree with leaves = 31 and depth = 11\n",
      "[LightGBM] [Debug] Trained a tree with leaves = 31 and depth = 11\n",
      "[LightGBM] [Debug] Trained a tree with leaves = 31 and depth = 9\n",
      "[LightGBM] [Debug] Trained a tree with leaves = 31 and depth = 11\n",
      "[LightGBM] [Debug] Trained a tree with leaves = 31 and depth = 10\n",
      "[LightGBM] [Debug] Trained a tree with leaves = 31 and depth = 12\n",
      "[LightGBM] [Debug] Trained a tree with leaves = 31 and depth = 9\n",
      "[LightGBM] [Debug] Trained a tree with leaves = 31 and depth = 10\n",
      "[LightGBM] [Debug] Trained a tree with leaves = 31 and depth = 10\n",
      "[LightGBM] [Debug] Trained a tree with leaves = 31 and depth = 10\n",
      "[LightGBM] [Debug] Trained a tree with leaves = 31 and depth = 10\n",
      "[LightGBM] [Debug] Trained a tree with leaves = 31 and depth = 10\n",
      "[LightGBM] [Debug] Trained a tree with leaves = 31 and depth = 9\n",
      "[LightGBM] [Debug] Trained a tree with leaves = 31 and depth = 10\n",
      "[LightGBM] [Debug] Trained a tree with leaves = 31 and depth = 9\n",
      "[LightGBM] [Debug] Trained a tree with leaves = 31 and depth = 10\n",
      "[LightGBM] [Debug] Trained a tree with leaves = 31 and depth = 10\n",
      "[LightGBM] [Debug] Trained a tree with leaves = 31 and depth = 9\n",
      "[LightGBM] [Debug] Trained a tree with leaves = 31 and depth = 11\n",
      "[LightGBM] [Debug] Trained a tree with leaves = 31 and depth = 9\n",
      "[LightGBM] [Debug] Trained a tree with leaves = 31 and depth = 9\n",
      "[LightGBM] [Debug] Trained a tree with leaves = 31 and depth = 10\n",
      "[LightGBM] [Debug] Trained a tree with leaves = 31 and depth = 9\n",
      "[LightGBM] [Debug] Trained a tree with leaves = 31 and depth = 9\n",
      "[LightGBM] [Debug] Trained a tree with leaves = 31 and depth = 9\n",
      "[LightGBM] [Debug] Trained a tree with leaves = 31 and depth = 10\n",
      "[LightGBM] [Debug] Trained a tree with leaves = 31 and depth = 12\n",
      "[LightGBM] [Debug] Trained a tree with leaves = 31 and depth = 9\n",
      "[LightGBM] [Debug] Trained a tree with leaves = 31 and depth = 8\n",
      "[LightGBM] [Debug] Trained a tree with leaves = 31 and depth = 9\n",
      "[LightGBM] [Debug] Trained a tree with leaves = 31 and depth = 10\n",
      "[LightGBM] [Debug] Trained a tree with leaves = 31 and depth = 11\n",
      "[LightGBM] [Debug] Trained a tree with leaves = 31 and depth = 9\n",
      "[LightGBM] [Debug] Trained a tree with leaves = 31 and depth = 10\n",
      "[LightGBM] [Debug] Trained a tree with leaves = 31 and depth = 9\n",
      "[LightGBM] [Debug] Trained a tree with leaves = 31 and depth = 10\n",
      "[LightGBM] [Debug] Trained a tree with leaves = 31 and depth = 9\n",
      "[LightGBM] [Debug] Trained a tree with leaves = 31 and depth = 11\n",
      "[LightGBM] [Debug] Trained a tree with leaves = 31 and depth = 12\n",
      "[LightGBM] [Debug] Trained a tree with leaves = 31 and depth = 9\n",
      "[LightGBM] [Debug] Trained a tree with leaves = 31 and depth = 9\n",
      "[LightGBM] [Debug] Trained a tree with leaves = 31 and depth = 9\n",
      "[LightGBM] [Debug] Trained a tree with leaves = 31 and depth = 9\n",
      "[LightGBM] [Debug] Trained a tree with leaves = 31 and depth = 9\n",
      "[LightGBM] [Debug] Trained a tree with leaves = 31 and depth = 11\n",
      "[LightGBM] [Debug] Trained a tree with leaves = 31 and depth = 11\n",
      "[LightGBM] [Debug] Trained a tree with leaves = 31 and depth = 9\n",
      "[LightGBM] [Debug] Trained a tree with leaves = 31 and depth = 11\n",
      "[LightGBM] [Debug] Trained a tree with leaves = 31 and depth = 11\n",
      "[LightGBM] [Debug] Trained a tree with leaves = 31 and depth = 12\n",
      "[LightGBM] [Debug] Trained a tree with leaves = 31 and depth = 10\n",
      "[LightGBM] [Debug] Trained a tree with leaves = 31 and depth = 11\n",
      "[LightGBM] [Debug] Trained a tree with leaves = 31 and depth = 12\n",
      "[LightGBM] [Debug] Trained a tree with leaves = 31 and depth = 9\n",
      "[LightGBM] [Debug] Trained a tree with leaves = 31 and depth = 9\n",
      "[LightGBM] [Debug] Trained a tree with leaves = 31 and depth = 9\n",
      "[LightGBM] [Debug] Trained a tree with leaves = 31 and depth = 9\n",
      "[LightGBM] [Debug] Trained a tree with leaves = 31 and depth = 12\n",
      "[LightGBM] [Debug] Trained a tree with leaves = 31 and depth = 10\n",
      "[LightGBM] [Debug] Trained a tree with leaves = 31 and depth = 9\n",
      "[LightGBM] [Debug] Trained a tree with leaves = 31 and depth = 9\n",
      "[LightGBM] [Debug] Trained a tree with leaves = 31 and depth = 9\n",
      "[LightGBM] [Debug] Trained a tree with leaves = 31 and depth = 11\n",
      "[LightGBM] [Debug] Trained a tree with leaves = 31 and depth = 10\n",
      "[LightGBM] [Debug] Trained a tree with leaves = 31 and depth = 10\n",
      "[LightGBM] [Debug] Trained a tree with leaves = 31 and depth = 9\n",
      "[LightGBM] [Debug] Trained a tree with leaves = 31 and depth = 12\n",
      "[LightGBM] [Debug] Trained a tree with leaves = 31 and depth = 11\n",
      "[LightGBM] [Debug] Trained a tree with leaves = 31 and depth = 9\n",
      "[LightGBM] [Debug] Trained a tree with leaves = 31 and depth = 12\n",
      "[LightGBM] [Debug] Trained a tree with leaves = 31 and depth = 9\n",
      "[LightGBM] [Debug] Trained a tree with leaves = 31 and depth = 9\n",
      "[LightGBM] [Debug] Trained a tree with leaves = 31 and depth = 8\n",
      "[LightGBM] [Debug] Trained a tree with leaves = 31 and depth = 12\n",
      "[LightGBM] [Debug] Trained a tree with leaves = 31 and depth = 8\n",
      "[LightGBM] [Debug] Trained a tree with leaves = 31 and depth = 12\n",
      "[LightGBM] [Debug] Trained a tree with leaves = 31 and depth = 10\n",
      "[LightGBM] [Debug] Trained a tree with leaves = 31 and depth = 9\n",
      "[LightGBM] [Debug] Trained a tree with leaves = 31 and depth = 12\n",
      "[LightGBM] [Debug] Trained a tree with leaves = 31 and depth = 9\n",
      "[LightGBM] [Debug] Trained a tree with leaves = 31 and depth = 12\n",
      "[LightGBM] [Debug] Trained a tree with leaves = 31 and depth = 12\n",
      "[LightGBM] [Debug] Trained a tree with leaves = 31 and depth = 12\n",
      "[LightGBM] [Debug] Trained a tree with leaves = 31 and depth = 11\n",
      "[LightGBM] [Debug] Trained a tree with leaves = 31 and depth = 11\n",
      "[LightGBM] [Debug] Trained a tree with leaves = 31 and depth = 12\n",
      "[LightGBM] [Debug] Trained a tree with leaves = 31 and depth = 10\n",
      "[LightGBM] [Debug] Trained a tree with leaves = 31 and depth = 11\n",
      "[LightGBM] [Debug] Trained a tree with leaves = 31 and depth = 12\n",
      "[LightGBM] [Debug] Trained a tree with leaves = 31 and depth = 9\n",
      "[LightGBM] [Debug] Trained a tree with leaves = 31 and depth = 9\n",
      "[LightGBM] [Debug] Trained a tree with leaves = 31 and depth = 11\n",
      "[LightGBM] [Debug] Trained a tree with leaves = 31 and depth = 12\n",
      "[LightGBM] [Debug] Trained a tree with leaves = 31 and depth = 12\n",
      "[LightGBM] [Debug] Trained a tree with leaves = 31 and depth = 12\n",
      "[LightGBM] [Debug] Trained a tree with leaves = 31 and depth = 12\n",
      "[LightGBM] [Debug] Trained a tree with leaves = 31 and depth = 9\n",
      "[LightGBM] [Debug] Trained a tree with leaves = 31 and depth = 12\n",
      "[LightGBM] [Debug] Trained a tree with leaves = 31 and depth = 12\n",
      "[LightGBM] [Debug] Trained a tree with leaves = 31 and depth = 12\n",
      "[LightGBM] [Debug] Trained a tree with leaves = 31 and depth = 12\n",
      "[LightGBM] [Debug] Trained a tree with leaves = 31 and depth = 9\n",
      "[LightGBM] [Debug] Trained a tree with leaves = 31 and depth = 12\n",
      "[LightGBM] [Debug] Trained a tree with leaves = 31 and depth = 12\n",
      "[LightGBM] [Debug] Trained a tree with leaves = 31 and depth = 12\n",
      "[LightGBM] [Debug] Trained a tree with leaves = 31 and depth = 12\n",
      "[LightGBM] [Debug] Trained a tree with leaves = 31 and depth = 12\n",
      "[LightGBM] [Debug] Trained a tree with leaves = 31 and depth = 11\n",
      "[LightGBM] [Debug] Trained a tree with leaves = 31 and depth = 10\n",
      "[LightGBM] [Debug] Trained a tree with leaves = 31 and depth = 8\n",
      "[LightGBM] [Debug] Trained a tree with leaves = 31 and depth = 12\n",
      "[LightGBM] [Debug] Trained a tree with leaves = 31 and depth = 11\n",
      "[LightGBM] [Debug] Trained a tree with leaves = 31 and depth = 9\n",
      "[LightGBM] [Debug] Trained a tree with leaves = 31 and depth = 12\n"
     ]
    }
   ],
   "source": [
    "ranker = ranker.fit(\n",
    "    train_X,\n",
    "    train_y,\n",
    "    group=train_baskets,\n",
    "     verbose=20,\n",
    "    eval_metric='ndcg'\n",
    ")"
   ]
  },
  {
   "cell_type": "code",
   "execution_count": 52,
   "id": "ccde84fd-0045-44d2-afbb-e1edf31567fb",
   "metadata": {},
   "outputs": [
    {
     "name": "stdout",
     "output_type": "stream",
     "text": [
      "bestseller_rank 0.9557118261864753\n",
      "article_id 0.02092231936665285\n",
      "product_type_no 0.008635312933885126\n",
      "garment_group_no 0.005630683972760533\n",
      "department_no 0.004127778209940176\n",
      "colour_group_code 0.0015658662031746815\n",
      "section_no 0.0010130501481700061\n",
      "perceived_colour_master_id 0.0007294997503880602\n",
      "perceived_colour_value_id 0.0007257200407689689\n",
      "graphical_appearance_no 0.0006335585654140805\n",
      "index_group_no 0.00030438462237016034\n",
      "age 0.0\n",
      "fashion_news_frequency 0.0\n",
      "club_member_status 0.0\n",
      "Active 0.0\n",
      "FN 0.0\n",
      "postal_code 0.0\n"
     ]
    }
   ],
   "source": [
    "for i in ranker.feature_importances_.argsort()[::-1]:\n",
    "    print(columns_to_use[i], ranker.feature_importances_[i]/ranker.feature_importances_.sum())"
   ]
  },
  {
   "cell_type": "markdown",
   "id": "2ba43f21-dceb-4f48-a879-683ba8301cc0",
   "metadata": {},
   "source": [
    "# submission"
   ]
  },
  {
   "cell_type": "code",
   "execution_count": null,
   "id": "f7b313f3-c97d-41d9-87f3-5c40a58a1024",
   "metadata": {},
   "outputs": [],
   "source": [
    "#Using model to make predictions on test\n",
    "test['preds'] = ranker.predict(test_X)\n",
    "\n",
    "#Sort according to prediction value and customer id and store article id\n",
    "c_id2predicted_article_ids = test.sort_values(['customer_id', 'preds'], ascending=False).groupby('customer_id')['article_id'].apply(list).to_dict()\n",
    "#If customer is not available then bestseller_last_week will be used to assign predictions\n",
    "bestsellers_last_week = bestsellers_previous_week[bestsellers_previous_week.week == bestsellers_previous_week.week.max()]['article_id'].tolist()\n"
   ]
  },
  {
   "cell_type": "code",
   "execution_count": null,
   "id": "bfea23ac-5fd3-4f2d-bbb0-2b95104cf08a",
   "metadata": {},
   "outputs": [],
   "source": [
    "#Read submission file\n",
    "sub = pd.read_csv('sample_submission.csv')"
   ]
  },
  {
   "cell_type": "code",
   "execution_count": null,
   "id": "25e783b5-e853-4461-8a75-96067d3b1a52",
   "metadata": {},
   "outputs": [],
   "source": [
    "#Store Prediction \n",
    "preds = []\n",
    "for c_id in sub.customer_id:\n",
    "    pred = c_id2predicted_article_ids.get(c_id, [])\n",
    "    pred = pred + bestsellers_last_week\n",
    "    preds.append(pred[:12])\n",
    "preds = [' '.join(['0' + str(p) for p in ps]) for ps in preds]\n",
    "sub.prediction = preds"
   ]
  },
  {
   "cell_type": "code",
   "execution_count": 62,
   "id": "83691153-9774-4a02-9ddf-56a78b54b56f",
   "metadata": {},
   "outputs": [],
   "source": [
    "sub.to_csv('submission_ltr.csv', index=False)"
   ]
  },
  {
   "cell_type": "code",
   "execution_count": null,
   "id": "ca79ec8c-f502-4573-99d1-40945214140d",
   "metadata": {},
   "outputs": [],
   "source": [
    "\n"
   ]
  }
 ],
 "metadata": {
  "environment": {
   "kernel": "python3",
   "name": "pytorch-gpu.1-11.m91",
   "type": "gcloud",
   "uri": "gcr.io/deeplearning-platform-release/pytorch-gpu.1-11:m91"
  },
  "kernelspec": {
   "display_name": "Python 3 (ipykernel)",
   "language": "python",
   "name": "python3"
  },
  "language_info": {
   "codemirror_mode": {
    "name": "ipython",
    "version": 3
   },
   "file_extension": ".py",
   "mimetype": "text/x-python",
   "name": "python",
   "nbconvert_exporter": "python",
   "pygments_lexer": "ipython3",
   "version": "3.8.3"
  }
 },
 "nbformat": 4,
 "nbformat_minor": 5
}
