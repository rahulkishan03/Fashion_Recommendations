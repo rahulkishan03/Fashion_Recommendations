{
 "cells": [
  {
   "cell_type": "code",
   "execution_count": null,
   "id": "f9d4e892-7030-4a1c-9cd8-8502a2a565d3",
   "metadata": {},
   "outputs": [],
   "source": [
    "# Import Required packages\n",
    "import os\n",
    "import numpy as np\n",
    "import pandas as pd\n",
    "import gc\n",
    "from datetime import datetime, timedelta\n"
   ]
  },
  {
   "cell_type": "code",
   "execution_count": null,
   "id": "fbc02745-e0cb-4442-aefb-7094153bdaef",
   "metadata": {},
   "outputs": [],
   "source": [
    "# Input from all best performing models\n",
    "sub1 = pd.read_csv('submission_ltr.csv').sort_values('customer_id').reset_index(drop=True)\n",
    "sub2 = pd.read_csv('submission_age.csv').sort_values('customer_id').reset_index(drop=True)\n",
    "sub3 = pd.read_csv('submission_trending.csv').sort_values('customer_id').reset_index(drop=True)\n",
    "sub4 = pd.read_csv('submission_regbole.csv').sort_values('customer_id').reset_index(drop=True)"
   ]
  },
  {
   "cell_type": "code",
   "execution_count": null,
   "id": "e1492dc5-ef04-4d11-ab5f-32423d14caf0",
   "metadata": {},
   "outputs": [],
   "source": [
    "# Merge all submissions\n",
    "sub1.columns = ['customer_id', 'prediction1']\n",
    "sub1['prediction2'] = sub2['prediction']\n",
    "sub1['prediction3'] = sub3['prediction']\n",
    "sub1['prediction4'] = sub4['prediction']\n",
    "sub1.head()"
   ]
  },
  {
   "cell_type": "code",
   "execution_count": null,
   "id": "ee8d5e41",
   "metadata": {},
   "outputs": [],
   "source": [
    "# Save for later\n",
    "sub_copy = sub1.copy()"
   ]
  },
  {
   "cell_type": "code",
   "execution_count": null,
   "id": "01ad269b-f8b2-4668-8dc3-47e3abaef855",
   "metadata": {},
   "outputs": [],
   "source": [
    "# Creating Recommendation based on weights\n",
    "def cust_blend(dt, W):\n",
    "#     Agenda: Create recommendations based on the weights provided by user\n",
    "    \n",
    "    REC = []\n",
    "    REC.append(dt['prediction1'].split())\n",
    "    REC.append(dt['prediction2'].split())\n",
    "    REC.append(dt['prediction3'].split())\n",
    "    REC.append(dt['prediction4'].split())\n",
    "    \n",
    "\n",
    "    #Assign a weight according the order of appearance\n",
    "    res = {}\n",
    "    for M in range(len(REC)):\n",
    "        for n, v in enumerate(REC[M]):\n",
    "            if v in res:\n",
    "                res[v] += (W[M]/(n+1))\n",
    "            else:\n",
    "                res[v] = (W[M]/(n+1))\n",
    "\n",
    "    # Sort recommendations based on item weights\n",
    "    res = list(dict(sorted(res.items(), key=lambda item: -item[1])).keys())\n",
    "\n",
    "    # Returning top 12\n",
    "    return ' '.join(res[:12])"
   ]
  },
  {
   "cell_type": "markdown",
   "id": "341e3525",
   "metadata": {},
   "source": [
    "### MAP\n"
   ]
  },
  {
   "cell_type": "code",
   "execution_count": null,
   "id": "f490c989",
   "metadata": {},
   "outputs": [],
   "source": [
    "# Functions to perform MAP check using the validation dataset\n",
    "def apk(actual, predicted, k=12):\n",
    "    if len(predicted)>k:\n",
    "        predicted = predicted[:k]\n",
    "\n",
    "    score = 0.0\n",
    "    num_hits = 0.0\n",
    "\n",
    "    for i,p in enumerate(predicted):\n",
    "        if p in actual and p not in predicted[:i]:\n",
    "            num_hits += 1.0\n",
    "            score += num_hits / (i+1.0)\n",
    "\n",
    "    if not actual:\n",
    "        return 0.0\n",
    "\n",
    "    return score / min(len(actual), k)\n",
    "\n",
    "def mapk(actual, predicted, k=12):\n",
    "    return np.mean([apk(a,p,k) for a,p in zip(actual, predicted)])"
   ]
  },
  {
   "cell_type": "markdown",
   "id": "15ab4e0f",
   "metadata": {},
   "source": [
    "#### Creating Validation dataset"
   ]
  },
  {
   "cell_type": "code",
   "execution_count": null,
   "id": "832b1976",
   "metadata": {},
   "outputs": [],
   "source": [
    "# Input - Transactions\n",
    "transactions = pd.read_csv('transactions_train.csv',\n",
    "                          usecols= ['t_dat', 'customer_id', 'article_id'], dtype={'article_id': 'int32'})\n",
    "\n"
   ]
  },
  {
   "cell_type": "code",
   "execution_count": null,
   "id": "fa342113",
   "metadata": {},
   "outputs": [],
   "source": [
    "# input customers\n",
    "customers = pd.read_csv('customers.csv',\n",
    "                        usecols=['customer_id'])"
   ]
  },
  {
   "cell_type": "code",
   "execution_count": null,
   "id": "39678d0d",
   "metadata": {},
   "outputs": [],
   "source": [
    "# Type Conversions\n",
    "transactions['t_dat'] = pd.to_datetime(transactions['t_dat'])\n",
    "\n",
    "# Splitting\n",
    "valid_df = transactions.loc[transactions.t_dat >= '2020-09-16']\n",
    "\n",
    "# Sorting\n",
    "valid_df = valid_df.sort_values([\"customer_id\", \"t_dat\"], ascending=False)\n"
   ]
  },
  {
   "cell_type": "code",
   "execution_count": null,
   "id": "16efd841",
   "metadata": {},
   "outputs": [],
   "source": [
    "# Formatting\n",
    "valid_df = valid_df.sort_values(['customer_id', 't_dat'], ascending = [True, True]) \n",
    "valid_cust = valid_df.groupby('customer_id')['article_id'].apply(list).reset_index()\n",
    "valid_cust['valid_true'] = valid_cust['article_id'].map(lambda x: '0'+' 0'.join(str(x)[1:-1].split(', ')))\n"
   ]
  },
  {
   "cell_type": "code",
   "execution_count": null,
   "id": "7f2d88bc",
   "metadata": {},
   "outputs": [],
   "source": [
    "# Run the MAP check using different weights and save scores\n",
    "df_score = pd.DataFrame()\n",
    "k = 12 #recommendations\n",
    "\n",
    "for i in range(100):\n",
    "    \n",
    "    print(i)\n",
    "    W1 = round(np.random.uniform(0.00, 1.90), 2)\n",
    "    W2 = round(np.random.uniform(1.90, 2.50), 2)\n",
    "    W3 = round(np.random.uniform(0.00, 1.90), 2)\n",
    "    W4 = round(np.random.uniform(0.00, 1.90), 2)\n",
    "    \n",
    "    sub1 = sub_copy.copy()\n",
    "    sub1['prediction'] = sub1.apply(cust_blend, W = [W1, W2, W3, W4], axis=1)\n",
    "    \n",
    "    del sub1['prediction1']\n",
    "    del sub1['prediction2']\n",
    "    del sub1['prediction3']\n",
    "    del sub1['prediction4']\n",
    "    \n",
    "    submission = valid_cust.merge(sub1, on ='customer_id', how ='left')\n",
    "    \n",
    "    score = mapk(\n",
    "    submission['valid_true'].map(lambda x: x.split()), \n",
    "    submission['prediction'].map(lambda x: x.split()), \n",
    "    k = k ) \n",
    "    \n",
    "    d = {\"weight\" : [W1, W2, W3, W4], \"score\" : score}\n",
    "    df_score = df_score.append(d, ignore_index = True)\n",
    "    \n",
    "    if i % 15 == 0:\n",
    "        df_score.to_csv(\"scores.csv\", index=False)\n",
    "#         print(df_score)\n",
    "#     df_score.to_csv(\"scores.csv\", index=False)\n",
    "    "
   ]
  },
  {
   "cell_type": "code",
   "execution_count": null,
   "id": "c66c2a4c",
   "metadata": {},
   "outputs": [],
   "source": [
    "df_score.to_csv(\"scores.csv\", index=False)"
   ]
  },
  {
   "cell_type": "code",
   "execution_count": null,
   "id": "153fbc73",
   "metadata": {},
   "outputs": [],
   "source": [
    "# Predict recommendations for optimal weights - Entire dataset\n",
    "sub1 = sub_copy.copy()\n",
    "sub1['prediction'] = sub1.apply(cust_blend, W = [0.24, 0.86, 1.01, 0.74], axis=1)\n",
    "\n",
    "del sub1['prediction1']\n",
    "del sub1['prediction2']\n",
    "del sub1['prediction3']\n",
    "del sub1['prediction4']"
   ]
  },
  {
   "cell_type": "code",
   "execution_count": null,
   "id": "ca3d2a0f",
   "metadata": {},
   "outputs": [],
   "source": [
    "# Output\n",
    "sub1.to_csv(\"submission.csv\", index = False)"
   ]
  },
  {
   "cell_type": "code",
   "execution_count": null,
   "id": "fb59540a",
   "metadata": {},
   "outputs": [],
   "source": []
  }
 ],
 "metadata": {
  "environment": {
   "kernel": "python3",
   "name": "pytorch-gpu.1-11.m91",
   "type": "gcloud",
   "uri": "gcr.io/deeplearning-platform-release/pytorch-gpu.1-11:m91"
  },
  "kernelspec": {
   "display_name": "Python 3 (ipykernel)",
   "language": "python",
   "name": "python3"
  },
  "language_info": {
   "codemirror_mode": {
    "name": "ipython",
    "version": 3
   },
   "file_extension": ".py",
   "mimetype": "text/x-python",
   "name": "python",
   "nbconvert_exporter": "python",
   "pygments_lexer": "ipython3",
   "version": "3.8.3"
  }
 },
 "nbformat": 4,
 "nbformat_minor": 5
}
